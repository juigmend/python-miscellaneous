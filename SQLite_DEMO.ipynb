{
 "cells": [
  {
   "cell_type": "markdown",
   "id": "6de5a2a2-c1aa-4230-a50c-d234682acdae",
   "metadata": {},
   "source": [
    "<center>\n",
    "\n",
    "*******************************************************************************************\n",
    "    \n",
    "### SQLite\n",
    "  \n",
    "#####  9 June 2024\n",
    "\n",
    "##### Juan Ignacio Mendoza Garay  \n",
    "\n",
    "*******************************************************************************************\n",
    "\n",
    "</center>\n",
    "\n",
    "#### INFORMATION:\n",
    "\n",
    "\n",
    "* Description:\n",
    "\n",
    "    Some basic Python + SQLite operations.\n",
    "    \n",
    "* Instructions:\n",
    "\n",
    "    Edit the values indicated with an input_arrow like this: <---  \n",
    "    Comment/uncomment or change values as suggested by the comments.  \n",
    "    Run the program, close your eyes and hope for the best.  \n",
    "\n",
    "*******************************************************************************************\n"
   ]
  },
  {
   "cell_type": "code",
   "execution_count": 1,
   "id": "67060779-80f6-40bd-b9ec-3bf05f8e406b",
   "metadata": {},
   "outputs": [],
   "source": [
    "import sqlite3, datetime"
   ]
  },
  {
   "cell_type": "markdown",
   "id": "cd9b84c3-282b-4b3a-b3e3-02f6e47fd78e",
   "metadata": {},
   "source": [
    "#### Connect to database and create it if it doesn't exist:"
   ]
  },
  {
   "cell_type": "code",
   "execution_count": 62,
   "id": "55a58140-79d8-4ab5-8840-35f5ea82e6ec",
   "metadata": {},
   "outputs": [],
   "source": [
    "db_fn = 'my.db' # <--- database file name\n",
    "\n",
    "connection = sqlite3.connect(db_fn)\n",
    "cursor = connection.cursor();"
   ]
  },
  {
   "cell_type": "markdown",
   "id": "87a4af0f-f48a-458b-a805-d439641bacfc",
   "metadata": {},
   "source": [
    "#### Create table:"
   ]
  },
  {
   "cell_type": "code",
   "execution_count": null,
   "id": "b0d6c836-c065-4cc5-9b09-4fb8a870c27a",
   "metadata": {},
   "outputs": [],
   "source": [
    "cursor.execute('CREATE TABLE my_table (datetime datetime, a int, b int)');"
   ]
  },
  {
   "cell_type": "markdown",
   "id": "669f52fd-d573-409a-8557-4d0e5db98a12",
   "metadata": {},
   "source": [
    "#### Create datapoint and insert into table:"
   ]
  },
  {
   "cell_type": "code",
   "execution_count": 57,
   "id": "5a74955b-14a0-4da5-81b2-7f3468e89895",
   "metadata": {},
   "outputs": [],
   "source": [
    "\n",
    "dt = datetime.datetime.now().strftime(\"%Y-%m-%d %H:%M:%S\")\n",
    "a = 2500 # <--- value for column \"a\"\n",
    "b = 3 # <--- value for column \"b\"\n",
    "\n",
    "dp = (dt,a,b)\n",
    "\n",
    "cursor.execute('INSERT INTO my_table VALUES(?,?,?)',dp)\n",
    "connection.commit();"
   ]
  },
  {
   "cell_type": "markdown",
   "id": "06eec49e-c3aa-4488-b1f6-0eddbce11625",
   "metadata": {},
   "source": [
    "#### Print table:"
   ]
  },
  {
   "cell_type": "code",
   "execution_count": 67,
   "id": "07adc79d-7b14-461f-9559-735832eb710b",
   "metadata": {},
   "outputs": [],
   "source": [
    "for row in cursor.execute('SELECT * FROM my_table'):\n",
    "    print(row)"
   ]
  },
  {
   "cell_type": "markdown",
   "id": "fa3692a0-1878-4bf4-a7fc-1eec87dff1ef",
   "metadata": {},
   "source": [
    "#### Delete rows from table:"
   ]
  },
  {
   "cell_type": "code",
   "execution_count": 66,
   "id": "ad4d9a3e-e2d3-45c8-8182-37010464ca5a",
   "metadata": {},
   "outputs": [],
   "source": [
    "query = \"\"\"\n",
    "            DELETE \n",
    "            FROM my_table \n",
    "            WHERE datetime >= ?\n",
    "        \"\"\".format()\n",
    "\n",
    "q = '2024-06-09' # <--- datetime of rows to delete\n",
    "cursor.execute(query,[q]);\n",
    "connection.commit();"
   ]
  },
  {
   "cell_type": "markdown",
   "id": "8b212778-709e-49ce-8a28-2213408f87c1",
   "metadata": {},
   "source": [
    "#### Extract datetime range from table:"
   ]
  },
  {
   "cell_type": "code",
   "execution_count": null,
   "id": "a84647ea-4255-4493-bdbb-0a88955fd50d",
   "metadata": {},
   "outputs": [],
   "source": [
    "query = \"\"\"\n",
    "            SELECT * \n",
    "            FROM my_table \n",
    "            WHERE datetime >= ?\n",
    "        \"\"\".format()\n",
    "\n",
    "q = '2024-06-09' # <--- datetime start\n",
    "cursor.execute( query, [q])\n",
    "qr = cursor.fetchall()\n",
    "for row in qr:\n",
    "    print(row)"
   ]
  },
  {
   "cell_type": "markdown",
   "id": "0e11fefe-5f21-4d33-88b6-e9d5d0cb4a8a",
   "metadata": {},
   "source": [
    "#### Disconnect from database:"
   ]
  },
  {
   "cell_type": "code",
   "execution_count": 68,
   "id": "f00cd4d9-a260-4e95-aa23-e73364f1b6af",
   "metadata": {},
   "outputs": [],
   "source": [
    "connection.close()"
   ]
  },
  {
   "cell_type": "markdown",
   "id": "03f40df6-5bb9-4b9f-a530-7e5f9e0ae99e",
   "metadata": {},
   "source": [
    "#### Print table names of an existing database:"
   ]
  },
  {
   "cell_type": "code",
   "execution_count": null,
   "id": "a23c8c39-10de-442d-a4f9-c67ef73120d3",
   "metadata": {},
   "outputs": [],
   "source": [
    "dbname = 'my.db' # <--- database name\n",
    "\n",
    "connection = sqlite3.connect(dbname)\n",
    "cursor = connection.cursor()\n",
    "query = \"\"\"\n",
    "            SELECT name FROM sqlite_master \n",
    "            WHERE type='table';\n",
    "        \"\"\"\n",
    "cursor.execute(query)\n",
    "print(cursor.fetchall())\n",
    "connection.close()"
   ]
  },
  {
   "cell_type": "markdown",
   "id": "37327cb9-c8c3-4023-ac8b-ef61cfec8301",
   "metadata": {},
   "source": [
    "#### Print table content of an existing database:"
   ]
  },
  {
   "cell_type": "code",
   "execution_count": null,
   "id": "4617e40d-bab6-4180-af86-eb2461c4fc94",
   "metadata": {},
   "outputs": [],
   "source": [
    "dbname = 'my.db' # <--- database name\n",
    "tablename = 'my_table' # <--- table name\n",
    "\n",
    "connection = sqlite3.connect(dbname)\n",
    "cursor = connection.cursor()\n",
    "query = 'SELECT * FROM {}'.format(tablename)\n",
    "for row in cursor.execute(query):\n",
    "    print(row)\n",
    "connection.close()"
   ]
  }
 ],
 "metadata": {
  "kernelspec": {
   "display_name": "Python 3 (ipykernel)",
   "language": "python",
   "name": "python3"
  },
  "language_info": {
   "codemirror_mode": {
    "name": "ipython",
    "version": 3
   },
   "file_extension": ".py",
   "mimetype": "text/x-python",
   "name": "python",
   "nbconvert_exporter": "python",
   "pygments_lexer": "ipython3",
   "version": "3.11.7"
  }
 },
 "nbformat": 4,
 "nbformat_minor": 5
}
