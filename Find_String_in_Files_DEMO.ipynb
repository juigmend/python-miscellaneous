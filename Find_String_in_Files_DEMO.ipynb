{
 "cells": [
  {
   "cell_type": "markdown",
   "id": "50eb0a68-a1d2-4361-8403-87d0f34d921b",
   "metadata": {},
   "source": [
    "<center>\n",
    "\n",
    "*******************************************************************************************\n",
    "\n",
    "### Find String in Files\n",
    "\n",
    "##### 16 April 2025\n",
    "\n",
    "##### Juan Ignacio Mendoza Garay\n",
    "\n",
    "*******************************************************************************************\n",
    "\n",
    "* Instructions:\n",
    "\n",
    "    Edit the values indicated with an arrow like this: <---\\\n",
    "    Run the program, close your eyes and hope for the best :)\n",
    "\n",
    "*******************************************************************************************"
   ]
  },
  {
   "cell_type": "code",
   "execution_count": 6,
   "id": "ecbf0370-48b4-4ba3-8c67-7f916ddbd6ee",
   "metadata": {},
   "outputs": [],
   "source": [
    "import os\n",
    "import mmap"
   ]
  },
  {
   "cell_type": "code",
   "execution_count": null,
   "id": "d314198b-30b2-495d-8cee-fa38c130f3a8",
   "metadata": {},
   "outputs": [],
   "source": [
    "\n",
    "parent_path = 'C:/Mohandas/Gandhi' # <--- (str): Folder, whose subfolders will be searched.\n",
    "query = ['civil','disobedience']   # <--- (str or list): String or strings to be searched.\n",
    "\n",
    "print_exceptions = False           # <--- (bool): False to print only the findings.\n",
    "\n",
    "if not isinstance(query,list): query = [query]\n",
    "query_b = [s.encode('utf-8') for s in query]\n",
    "for path, subdirs, files in os.walk(parent_path):\n",
    "    for name in files:\n",
    "        ffn = os.path.join(path, name)\n",
    "        with open(ffn, 'rb', 0) as file:\n",
    "            try:\n",
    "                mm = mmap.mmap(file.fileno(), 0, access=mmap.ACCESS_READ)\n",
    "                for b,s in zip(query_b,query):\n",
    "                    if mm.find(b) != -1:\n",
    "                        print(f'Found: \"{s}\"')\n",
    "                        print(ffn,'\\n')\n",
    "            except Exception as e:\n",
    "                if print_exceptions:\n",
    "                    print('Exception:',e)\n",
    "                    print(ffn,'\\n')"
   ]
  }
 ],
 "metadata": {
  "kernelspec": {
   "display_name": "Python 3 (ipykernel)",
   "language": "python",
   "name": "python3"
  },
  "language_info": {
   "codemirror_mode": {
    "name": "ipython",
    "version": 3
   },
   "file_extension": ".py",
   "mimetype": "text/x-python",
   "name": "python",
   "nbconvert_exporter": "python",
   "pygments_lexer": "ipython3",
   "version": "3.11.11"
  }
 },
 "nbformat": 4,
 "nbformat_minor": 5
}
