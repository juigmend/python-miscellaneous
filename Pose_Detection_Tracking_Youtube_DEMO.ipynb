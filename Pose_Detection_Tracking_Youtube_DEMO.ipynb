{
 "cells": [
  {
   "cell_type": "markdown",
   "metadata": {
    "colab_type": "text",
    "id": "ZMUdgWmTFWEs"
   },
   "source": [
    "<center>\n",
    "\n",
    "*******************************************************************************************\n",
    "    \n",
    "### Pose Detection and Tracking in Youtube Video\n",
    "### with AlphaPose\n",
    "\n",
    "##### 30 March 2025\n",
    "\n",
    "##### Juan Ignacio Mendoza Garay  \n",
    "\n",
    "*******************************************************************************************\n",
    "\n",
    "</center>\n",
    "\n",
    "##### INFORMATION:\n",
    "\n",
    "* Tested using:\n",
    "\n",
    "    * AlphaPose\n",
    "        * Fork: https://github.com/juigmend/AlphaPose\n",
    "    * Python 3.11\n",
    "    * Windows 11 operating system\n",
    "    * Intel 64-bit CPU\n",
    ">\n",
    "* Dependencies:\n",
    "\n",
    "    * Youtube video downloader: https://pypi.org/project/yt-dlp/\n",
    "    * cython_bbox:\n",
    "        1) install Desktop Development with C++ from the Visual Studio Installer\n",
    "        2) type to command prompt: \\\n",
    "           a) set DISTUTILS_USE_SDK=1 \\\n",
    "           b) pip install cython_bbox  \\\n",
    "           NOTE: Pip was used for installation but other installers could be used.\n",
    "    * Other packages might be prompted for installation.\n",
    ">\n",
    "* References:\n",
    "    * https://github.com/MVIG-SJTU/AlphaPose\n",
    "    * https://github.com/tugstugi/dl-colab-notebooks/blob/master/notebooks/AlphaPoseV0_3_0.ipynb\n",
    ">\n",
    "* Instructions:\n",
    "\n",
    "    Edit the values indicated with an arrow like this: <---  \n",
    "    Comment/uncomment or change values as suggested by the comments.  \n",
    "    Run the program, close your eyes and hope for the best.  \n",
    "\n",
    "*******************************************************************************************"
   ]
  },
  {
   "cell_type": "code",
   "execution_count": null,
   "metadata": {
    "colab": {},
    "colab_type": "code",
    "id": "JQVH0gE47FE9"
   },
   "outputs": [],
   "source": [
    "import os\n",
    "from os.path import exists\n",
    "from IPython.display import YouTubeVideo\n",
    "import io\n",
    "import base64\n",
    "from IPython.display import HTML\n",
    "import time\n",
    "from datetime import timedelta\n",
    "import subprocess"
   ]
  },
  {
   "cell_type": "markdown",
   "metadata": {},
   "source": [
    "***\n",
    "#### Set paths and parameters:"
   ]
  },
  {
   "cell_type": "code",
   "execution_count": null,
   "metadata": {},
   "outputs": [],
   "source": [
    "AP_code_path = r\"C:\\Users\\Trevor_Philips\\Documents\\Python\\AlphaPose\" # <--- folder of AlpHaPose code (full path)\n",
    "AP_results_path = r\"C:\\Users\\Trevor_Philips\\Documents\\AlphaPose_results\" # <--- folder where results will be saved (full path)\n",
    "\n",
    "# Most probably there is no need to alter the following:\n",
    "yolo_pretrained_model_path = AP_code_path + r'\\detector\\yolo\\data\\yolov3-spp.weights'\n",
    "pretrained_model_path = AP_code_path + r'\\pretrained_models\\fast_421_res152_256x192.pth'\n",
    "pretrained_model_config_path = AP_code_path + r'\\configs\\coco\\resnet\\256x192_res152_lr1e-3_1x-duc.yaml'\n",
    "tracker_weights_path = AP_code_path + r'\\trackers\\weights\\osnet_ain_x1_0_msmt17_256x128_amsgrad_ep50_lr0.0015_coslr_b64_fb10_softmax_labsmth_flip_jitter.pth'"
   ]
  },
  {
   "cell_type": "markdown",
   "metadata": {},
   "source": [
    ">\n",
    "##### Information to process Youtube video:"
   ]
  },
  {
   "cell_type": "code",
   "execution_count": null,
   "metadata": {},
   "outputs": [],
   "source": [
    "# The Youtube ID follows this string in the URL: \"www.youtube.com/watch?v=\"\n",
    "\n",
    "# Comment/uncomment:\n",
    "\n",
    "# YT_video_ID = 'bqpRoVxH2jc' # <--- this string is at the end of the video's Youtube page URL\n",
    "# lbl = 'Rammstein_Sonne_Kids_120s' # <--- name for the resulting files, '' or [] = use Youtube video ID\n",
    "# trim = [0,(60*2)] # <--- [start,end] in seconds or 'end', '' or [] = no trim\n",
    "\n",
    "# YT_video_ID = 'D-7SA6rJoWc' # <--- this string is at the end of the video's Youtube page URL\n",
    "# lbl = 'Bee_Gees_medley_120s' # <--- name for the resulting files, '' or [] = use Youtube video ID\n",
    "# trim = [0,120] # <--- [start,end] in seconds or 'end', '' or [] = no trim\n",
    "\n",
    "# YT_video_ID = 'bPwA4gVobJ0' # <--- this string is at the end of the video's Youtube page URL\n",
    "# lbl = 'JS_Bach_Art_of_the_Fugue' # <--- name for the resulting files, '' or [] = use Youtube video ID\n",
    "# trim = [0,'end'] # <--- [start,end] in seconds or 'end', '' or [] = no trim\n",
    "\n",
    "YT_video_ID = 'es_3F3TLJS0' # <--- this string is at the end of the video's Youtube page URL\n",
    "lbl = 'Pachelbel_Wedding_Str_Qt_608_06_01' # <--- name for the resulting files, '' or [] = use Youtube video ID\n",
    "trim = [4,'end'] # <--- [start,end] in seconds or 'end', '' or [] = no trim\n",
    "\n",
    "# YT_video_ID = 'Xu5TlSXEzzs' # <--- this string is at the end of the video's Youtube page URL\n",
    "# lbl = 'Pachelbel_Vetta_Str_Qt_608_06_01' # <--- name for the resulting files, '' or [] = use Youtube video ID\n",
    "# trim = [] # <--- [start,end] in seconds or 'end', '' or [] = no trim"
   ]
  },
  {
   "cell_type": "markdown",
   "metadata": {},
   "source": [
    "***\n",
    "#### Get pre-trained models:"
   ]
  },
  {
   "cell_type": "code",
   "execution_count": null,
   "metadata": {
    "colab": {},
    "colab_type": "code",
    "id": "FbmT4eNY8ST6"
   },
   "outputs": [],
   "source": [
    "if not exists(yolo_pretrained_model_path):\n",
    "    ! mkdir {AP_code_path}\\detector\\yolo\\data\n",
    "    ! gdown -O {yolo_pretrained_model_path} https://drive.google.com/uc?id=1D47msNOOiJKvPOXlnpyzdKA3k6E97NTC\n",
    "\n",
    "if not exists(pretrained_model_path):  \n",
    "    ! gdown -O {pretrained_model_path} https://drive.google.com/uc?id=1kfyedqyn8exjbbNmYq8XGd2EooQjPtF9\n",
    "\n",
    "if not exists(tracker_weights_path):\n",
    "    ! mkdir {AP_code_path}\\trackers\\weights\n",
    "    ! gdown -O {tracker_weights_path} https://drive.google.com/uc?id=1myNKfr2cXqiHZVXaaG8ZAq_U2UpeOLfG"
   ]
  },
  {
   "cell_type": "markdown",
   "metadata": {},
   "source": [
    "***\n",
    "#### Preview Youtube video:"
   ]
  },
  {
   "cell_type": "code",
   "execution_count": null,
   "metadata": {
    "colab": {
     "base_uri": "https://localhost:8080/",
     "height": 321
    },
    "colab_type": "code",
    "id": "cxFKSe_j9I_f",
    "outputId": "d438b428-47b4-483a-c719-49ad8804cfb3"
   },
   "outputs": [],
   "source": [
    "YouTubeVideo(YT_video_ID)"
   ]
  },
  {
   "cell_type": "markdown",
   "metadata": {},
   "source": [
    "***\n",
    "#### Download and trim video:"
   ]
  },
  {
   "cell_type": "code",
   "execution_count": null,
   "metadata": {},
   "outputs": [],
   "source": [
    "# Download video:\n",
    "\n",
    "video_in_ffn = AP_results_path + '\\\\video_in_TMP.mp4'\n",
    "if exists(video_in_ffn):\n",
    "    ! del {video_in_ffn}\n",
    "! yt-dlp -f \"b[height<=720][ext=mp4]\" --output \"{video_in_ffn}\" https://www.youtube.com/watch?v={YT_video_ID} -q"
   ]
  },
  {
   "cell_type": "code",
   "execution_count": null,
   "metadata": {},
   "outputs": [],
   "source": [
    "# Trim video:\n",
    "\n",
    "if not trim or ((trim[0] == 0) & (trim[1] == 'end')):    \n",
    "    video_trimmed_ffn = AP_results_path + '\\\\video_in_TMP.mp4'\n",
    "    sfx = lbl\n",
    "else:\n",
    "    video_trimmed_ffn = AP_results_path + '\\\\video_trimmed_TMP.mp4'\n",
    "    trim_start = trim[0]\n",
    "    if trim[1] == 'end':\n",
    "        video_duration = int(float(subprocess.run([\"ffprobe\", \"-v\", \"error\", \"-show_entries\",\n",
    "                                                   \"format=duration\", \"-of\",\n",
    "                                                   \"default=noprint_wrappers=1:nokey=1\", video_in_ffn],\n",
    "                                                  stdout=subprocess.PIPE,\n",
    "                                                  stderr=subprocess.STDOUT).stdout))\n",
    "        trim_end = video_duration + 1 # overshoot to ensure its the end of the video\n",
    "    else:\n",
    "        trim_end = trim[1]\n",
    "    sfx = lbl + f'_{trim[0]}-{trim[1]}'\n",
    "\n",
    "    ! ffmpeg -y -loglevel error -i {video_in_ffn} -ss {trim_start} -to {trim_end} -acodec copy -vcodec copy{video_trimmed_ffn}\n",
    "\n",
    "print(sfx)"
   ]
  },
  {
   "cell_type": "markdown",
   "metadata": {},
   "source": [
    "***\n",
    "#### Run AlphaPose demo:"
   ]
  },
  {
   "cell_type": "code",
   "execution_count": null,
   "metadata": {},
   "outputs": [],
   "source": [
    "tic = time.time()\n",
    "\n",
    "! cd {AP_code_path} && python scripts\\demo_inference.py --sp --video {video_trimmed_ffn} --outdir {AP_results_path} --save_video --checkpoint {pretrained_model_path} --cfg {pretrained_model_config_path} --pose_track --suffix {sfx}\n",
    "\n",
    "print(f\"\\ncomputing time = {timedelta(seconds = time.time() - tic)} (H:M:S)\\n\")\n",
    "\n",
    "#  On an i5-1235U CPU (10-core, 1.3 GHz, x64) and 16 GB RAM:\n",
    "\n",
    "# [INP_DIM, NMS_THRES, CONFIDENCE]\n",
    "# File_name (duration of trimmed video M:S): Computing time (H:M:S)\n",
    "\n",
    "# [608, 0.6, 0.1]\n",
    "# Pachelbel_Wedding_Str_Qt_608_06_01_4-end (5:19): 18:53:50\n",
    "# Pachelbel_Vetta_Str_Qt_608_06_01 (6:59): 15:31:00"
   ]
  },
  {
   "cell_type": "markdown",
   "metadata": {},
   "source": [
    "***\n",
    "#### Display video with overlaid pose sticks:"
   ]
  },
  {
   "cell_type": "code",
   "execution_count": null,
   "metadata": {},
   "outputs": [],
   "source": [
    "# Extract audio from trimmed video:\n",
    "\n",
    "audio_ext = ((subprocess.run([\"ffprobe\",\"-v\",\"error\",\"-select_streams\",\"a\",\"-show_entries\",\n",
    "                              \"stream=codec_name\",\"-of\",\n",
    "                              \"default=nokey=1:noprint_wrappers=1\",\n",
    "                             video_in_ffn],\n",
    "                             stdout=subprocess.PIPE,\n",
    "                             stderr=subprocess.STDOUT).stdout).strip()).decode(\"utf-8\")\n",
    "\n",
    "audio_trimmed_ffn = AP_results_path + '\\\\audio_' + sfx + '.' + audio_ext\n",
    "\n",
    "! ffmpeg -y -loglevel error -i {video_trimmed_ffn} -vn -acodec copy {audio_trimmed_ffn}"
   ]
  },
  {
   "cell_type": "code",
   "execution_count": null,
   "metadata": {},
   "outputs": [],
   "source": [
    "# Combine AlphaPose video with audio:\n",
    "\n",
    "if not trim:\n",
    "    video_AP_ffn = AP_results_path + '\\\\AlphaPose_video_in_TMP.mp4'\n",
    "else:\n",
    "    video_AP_ffn = AP_results_path + '\\\\AlphaPose_video_trimmed_TMP.mp4'\n",
    "\n",
    "if not lbl:\n",
    "    lbl = YT_video_ID\n",
    "\n",
    "av_AP_ffn = AP_results_path + '\\\\AlphaPose_' + sfx + '.mp4'\n",
    "\n",
    "! ffmpeg -y -loglevel error -i {video_AP_ffn} -i {audio_trimmed_ffn} -c copy {av_AP_ffn}"
   ]
  },
  {
   "cell_type": "code",
   "execution_count": null,
   "metadata": {
    "colab": {},
    "colab_type": "code",
    "id": "ZPIkVY3uBqB4"
   },
   "outputs": [],
   "source": [
    "# Re-encode and display:\n",
    "\n",
    "av_AP_DISP_ffn = AP_results_path + '\\\\AlphaPose_' + sfx + '_DISP_TMP.mp4'\n",
    "\n",
    "! ffmpeg -y -loglevel error -i {av_AP_ffn} {av_AP_DISP_ffn}\n",
    "\n",
    "width = 400\n",
    "height = 300\n",
    "video_encoded = base64.b64encode(io.open(av_AP_DISP_ffn, 'rb').read())\n",
    "HTML(data='''<video width = \"{0}\" height=\"{1}\" alt=\"test\" controls>\n",
    "             <source src=\"data:video/mp4;base64,{2}\" type=\"video/mp4\" />\n",
    "             </video>'''.format(width, height, video_encoded.decode('ascii')))"
   ]
  }
 ],
 "metadata": {
  "accelerator": "GPU",
  "colab": {
   "collapsed_sections": [],
   "name": "AlphaPoseV0.3.0.ipynb",
   "provenance": []
  },
  "kernelspec": {
   "display_name": "Python 3 (ipykernel)",
   "language": "python",
   "name": "python3"
  },
  "language_info": {
   "codemirror_mode": {
    "name": "ipython",
    "version": 3
   },
   "file_extension": ".py",
   "mimetype": "text/x-python",
   "name": "python",
   "nbconvert_exporter": "python",
   "pygments_lexer": "ipython3",
   "version": "3.11.7"
  }
 },
 "nbformat": 4,
 "nbformat_minor": 4
}
