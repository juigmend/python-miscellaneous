{
 "cells": [
  {
   "cell_type": "markdown",
   "metadata": {
    "colab_type": "text",
    "id": "ZMUdgWmTFWEs"
   },
   "source": [
    "<center>\n",
    "\n",
    "*******************************************************************************************\n",
    "    \n",
    "### Pose Detection and Tracking in Youtube Video\n",
    "\n",
    "##### 17 November 2024\n",
    "\n",
    "##### Juan Ignacio Mendoza Garay  \n",
    "\n",
    "*******************************************************************************************\n",
    "\n",
    "</center>\n",
    "\n",
    "##### INFORMATION:\n",
    "\n",
    "* Tested using:\n",
    "\n",
    "    * AlphaPose\n",
    "        * Fork: https://github.com/juigmend/Alpha_Pose\n",
    "    * Python 3.11\n",
    "    * Windows 11 operating system\n",
    "    * Intel 64-bit CPU\n",
    ">\n",
    "* Dependencies:\n",
    "\n",
    "    * Youtube video downloader: https://pypi.org/project/yt-dlp/\n",
    "    * cython_bbox:\n",
    "        1) install Desktop Development with C++ from the Visual Studio Installer\n",
    "        2) type to command prompt: \\\n",
    "           a) set DISTUTILS_USE_SDK=1 \\\n",
    "           b) pip install cython_bbox  \\\n",
    "           NOTE: Pip was used for installation but other installers could be used.\n",
    "    * Other packages might be prompted for installation.\n",
    ">\n",
    "* References:\n",
    "    * https://github.com/MVIG-SJTU/AlphaPose\n",
    "    * https://github.com/tugstugi/dl-colab-notebooks/blob/master/notebooks/AlphaPoseV0_3_0.ipynb\n",
    ">\n",
    "* Instructions:\n",
    "\n",
    "    Edit the values indicated with an arrow like this: <---  \n",
    "    Comment/uncomment or change values as suggested by the comments.  \n",
    "    Run the program, close your eyes and hope for the best.  \n",
    "\n",
    "*******************************************************************************************"
   ]
  },
  {
   "cell_type": "code",
   "execution_count": 1,
   "metadata": {
    "colab": {},
    "colab_type": "code",
    "id": "JQVH0gE47FE9"
   },
   "outputs": [],
   "source": [
    "import os\n",
    "from os.path import exists\n",
    "from IPython.display import YouTubeVideo\n",
    "import io\n",
    "import base64\n",
    "from IPython.display import HTML\n",
    "import time\n",
    "from datetime import timedelta"
   ]
  },
  {
   "cell_type": "markdown",
   "metadata": {},
   "source": [
    "***\n",
    "#### Set paths and parameters:"
   ]
  },
  {
   "cell_type": "code",
   "execution_count": 2,
   "metadata": {},
   "outputs": [],
   "source": [
    "AP_code_path = r\"C:\\Users\\Trevor_Philips\\Documents\\Python\\AlphaPose\" # <--- folder of AlpHaPose code (full path)\n",
    "AP_results_path = r\"C:\\Users\\Trevor_Philips\\Documents\\AlphaPose_results\" # <--- folder where results will be saved (full path)\n",
    "\n",
    "# Most probably there is no need to alter the following:\n",
    "yolo_pretrained_model_path = AP_code_path + r'\\detector\\yolo\\data\\yolov3-spp.weights'\n",
    "pretrained_model_path = AP_code_path + r'\\pretrained_models\\fast_421_res152_256x192.pth'\n",
    "pretrained_model_config_path = AP_code_path + r'\\configs\\coco\\resnet\\256x192_res152_lr1e-3_1x-duc.yaml'\n",
    "tracker_weights_path = AP_code_path + r'\\trackers\\weights\\osnet_ain_x1_0_msmt17_256x128_amsgrad_ep50_lr0.0015_coslr_b64_fb10_softmax_labsmth_flip_jitter.pth'"
   ]
  },
  {
   "cell_type": "markdown",
   "metadata": {},
   "source": [
    ">\n",
    "##### Information to process Youtube video:"
   ]
  },
  {
   "cell_type": "code",
   "execution_count": 81,
   "metadata": {},
   "outputs": [],
   "source": [
    "# Comment/uncomment:\n",
    "\n",
    "#YT_video_ID = 'bqpRoVxH2jc' # <--- this string is at the end of the video's Youtube page URL\n",
    "#lbl = 'Rammstein_Sonne_kids_5s' # <--- name for the resulting video file\n",
    "#trim_start = 0 # <--- trim start in seconds\n",
    "#trim_end = 5 # <--- trim end in seconds\n",
    "\n",
    "YT_video_ID = 'es_3F3TLJS0' # <--- this string is at the end of the video's Youtube page URL\n",
    "lbl = 'Pachelbel_Str_Qt_5s' # <--- name for the resulting video file\n",
    "trim_start = 4 # <--- trim start in seconds\n",
    "trim_end = 9 # <--- trim end in seconds"
   ]
  },
  {
   "cell_type": "markdown",
   "metadata": {},
   "source": [
    "***\n",
    "#### Get pre-trained models:"
   ]
  },
  {
   "cell_type": "code",
   "execution_count": 14,
   "metadata": {
    "colab": {},
    "colab_type": "code",
    "id": "FbmT4eNY8ST6"
   },
   "outputs": [],
   "source": [
    "if not exists(yolo_pretrained_model_path):\n",
    "    ! mkdir {AP_code_path}\\detector\\yolo\\data\n",
    "    ! gdown -O {yolo_pretrained_model_path} https://drive.google.com/uc?id=1D47msNOOiJKvPOXlnpyzdKA3k6E97NTC\n",
    "\n",
    "if not exists(pretrained_model_path):  \n",
    "    ! gdown -O {pretrained_model_path} https://drive.google.com/uc?id=1kfyedqyn8exjbbNmYq8XGd2EooQjPtF9\n",
    "\n",
    "if not exists(tracker_weights_path):\n",
    "    ! mkdir {AP_code_path}\\trackers\\weights\n",
    "    ! gdown -O {tracker_weights_path} https://drive.google.com/uc?id=1myNKfr2cXqiHZVXaaG8ZAq_U2UpeOLfG"
   ]
  },
  {
   "cell_type": "markdown",
   "metadata": {},
   "source": [
    "***\n",
    "#### Preview Youtube video:"
   ]
  },
  {
   "cell_type": "code",
   "execution_count": null,
   "metadata": {
    "colab": {
     "base_uri": "https://localhost:8080/",
     "height": 321
    },
    "colab_type": "code",
    "id": "cxFKSe_j9I_f",
    "outputId": "d438b428-47b4-483a-c719-49ad8804cfb3"
   },
   "outputs": [],
   "source": [
    "YouTubeVideo(YT_video_ID)"
   ]
  },
  {
   "cell_type": "markdown",
   "metadata": {},
   "source": [
    "***\n",
    "#### Download and trim video:"
   ]
  },
  {
   "cell_type": "code",
   "execution_count": null,
   "metadata": {},
   "outputs": [],
   "source": [
    "# Download video:\n",
    "video_in_ffn = AP_results_path + '\\\\video_in.mp4'\n",
    "if exists(video_in_ffn):\n",
    "    ! del {video_in_ffn}\n",
    "! yt-dlp -f \"bestvideo[ext=mp4]\" --output \"{video_in_ffn}\" https://www.youtube.com/watch?v={YT_video_ID} -q"
   ]
  },
  {
   "cell_type": "code",
   "execution_count": 82,
   "metadata": {},
   "outputs": [],
   "source": [
    "# Trim video:\n",
    "video_trimmed_ffn = AP_results_path + '\\\\video_trimmed.avi'\n",
    "! ffmpeg -y -loglevel error -i {video_in_ffn} -vf trim={trim_start}:{trim_end},setpts=PTS-STARTPTS {video_trimmed_ffn}"
   ]
  },
  {
   "cell_type": "markdown",
   "metadata": {},
   "source": [
    "***\n",
    "#### Run AlphaPose demo:"
   ]
  },
  {
   "cell_type": "code",
   "execution_count": null,
   "metadata": {},
   "outputs": [],
   "source": [
    "tic = time.time()\n",
    "\n",
    "! cd {AP_code_path} && python scripts\\demo_inference.py --sp --video {video_trimmed_ffn} --outdir {AP_results_path} --save_video --checkpoint {pretrained_model_path} --cfg {pretrained_model_config_path} --pose_track\n",
    "\n",
    "print(f\"computing time = {timedelta(seconds = time.time() - tic)} (H:M:S)\\n\")"
   ]
  },
  {
   "cell_type": "markdown",
   "metadata": {},
   "source": [
    "***\n",
    "#### Visualise video with overlaid pose sticks:"
   ]
  },
  {
   "cell_type": "code",
   "execution_count": 79,
   "metadata": {},
   "outputs": [],
   "source": [
    "# Encode MP4:\n",
    "video_AP_ffn_ne = AP_results_path + '\\\\AlphaPose_video_trimmed'\n",
    "video_AP_ffn_avi = video_AP_ffn_ne + '.avi'\n",
    "video_AP_out_ffn_mp4 = AP_results_path + '\\\\' + lbl + '.mp4'\n",
    "! ffmpeg -y -loglevel error -i {video_AP_ffn_avi} -vcodec libx264 {video_AP_out_ffn_mp4}"
   ]
  },
  {
   "cell_type": "code",
   "execution_count": null,
   "metadata": {
    "colab": {},
    "colab_type": "code",
    "id": "ZPIkVY3uBqB4"
   },
   "outputs": [],
   "source": [
    "# Display:\n",
    "width = 400\n",
    "height = 300\n",
    "video_encoded = base64.b64encode(io.open(video_AP_out_ffn_mp4, 'rb').read())\n",
    "HTML(data='''<video width = \"{0}\" height=\"{1}\" alt=\"test\" controls>\n",
    "             <source src=\"data:video/mp4;base64,{2}\" type=\"video/mp4\" />\n",
    "             </video>'''.format(width, height, video_encoded.decode('ascii')))"
   ]
  }
 ],
 "metadata": {
  "accelerator": "GPU",
  "colab": {
   "collapsed_sections": [],
   "name": "AlphaPoseV0.3.0.ipynb",
   "provenance": []
  },
  "kernelspec": {
   "display_name": "Python 3 (ipykernel)",
   "language": "python",
   "name": "python3"
  },
  "language_info": {
   "codemirror_mode": {
    "name": "ipython",
    "version": 3
   },
   "file_extension": ".py",
   "mimetype": "text/x-python",
   "name": "python",
   "nbconvert_exporter": "python",
   "pygments_lexer": "ipython3",
   "version": "3.11.7"
  }
 },
 "nbformat": 4,
 "nbformat_minor": 4
}
