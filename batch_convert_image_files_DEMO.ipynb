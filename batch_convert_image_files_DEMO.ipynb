{
 "cells": [
  {
   "cell_type": "markdown",
   "id": "f0920df4-b7ed-4632-b0c0-fe9a5484401b",
   "metadata": {},
   "source": [
    "<center>\n",
    "\n",
    "*******************************************************************************************\n",
    "    \n",
    "### BATCH PROCESS\n",
    "### CONVERT IMAGE FILE FORMAT\n",
    "  \n",
    "#####  25 August 2024\n",
    "\n",
    "##### Juan Ignacio Mendoza Garay  \n",
    "\n",
    "*******************************************************************************************\n",
    "\n",
    "</center>\n",
    "\n",
    "##### INFORMATION:\n",
    "\n",
    "* Description:\n",
    "\n",
    "    Change format of image files.\n",
    "\n",
    "* Instructions:\n",
    "\n",
    "    Edit the values indicated with an arrow like this: <---  \n",
    "    Comment/uncomment or change values as suggested by the comments.  \n",
    "    Run the program, close your eyes and hope for the best.  \n",
    "\n",
    "*******************************************************************************************\n"
   ]
  },
  {
   "cell_type": "code",
   "execution_count": 1,
   "id": "d48553ca-e59e-49bc-bcfe-48851473a0c7",
   "metadata": {},
   "outputs": [],
   "source": [
    "import os\n",
    "from PIL import Image"
   ]
  },
  {
   "cell_type": "code",
   "execution_count": 47,
   "id": "b506b9af-7f42-408f-aaba-a0d4b286e161",
   "metadata": {},
   "outputs": [],
   "source": [
    "INPUT_FOLDER = r\"C:\\Users\\grasshopper\\Pictures\" # <---\n",
    "OUTPUT_FOLDER = r\"C:\\Users\\grasshopper\\Pictures\\converted\" # <---\n",
    "input_format = 'png' # <---\n",
    "output_format = 'jpeg' # <---"
   ]
  },
  {
   "cell_type": "code",
   "execution_count": null,
   "id": "a0c1dde1-0df6-4b76-b155-9b5cdbe1520f",
   "metadata": {},
   "outputs": [],
   "source": [
    "input_files = [f for f in os.listdir(INPUT_FOLDER) if f.lower().endswith(input_format)]\n",
    "\n",
    "for input_file in input_files:\n",
    "    input_path = os.path.join(INPUT_FOLDER, input_file)\n",
    "    output_file = os.path.splitext(input_file)[0] + '.' + output_format\n",
    "    output_path = os.path.join(OUTPUT_FOLDER, output_file)\n",
    "    img = Image.open(input_path).convert('RGB')\n",
    "    print('IN: ',input_path)\n",
    "    print('OUT: ',output_path)\n",
    "    img.save(output_path, format=output_format)\n",
    "    \n",
    "print('done') "
   ]
  }
 ],
 "metadata": {
  "kernelspec": {
   "display_name": "Python 3 (ipykernel)",
   "language": "python",
   "name": "python3"
  },
  "language_info": {
   "codemirror_mode": {
    "name": "ipython",
    "version": 3
   },
   "file_extension": ".py",
   "mimetype": "text/x-python",
   "name": "python",
   "nbconvert_exporter": "python",
   "pygments_lexer": "ipython3",
   "version": "3.11.7"
  }
 },
 "nbformat": 4,
 "nbformat_minor": 5
}
