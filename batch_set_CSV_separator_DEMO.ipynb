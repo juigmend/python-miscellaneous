{
 "cells": [
  {
   "cell_type": "markdown",
   "id": "6de5a2a2-c1aa-4230-a50c-d234682acdae",
   "metadata": {},
   "source": [
    "<center>\n",
    "\n",
    "*******************************************************************************************\n",
    "    \n",
    "### BATCH PROCESS\n",
    "### SET SEPARATORS OF CSV FILES\n",
    "  \n",
    "##### 24 MARCH 2024\n",
    "\n",
    "##### Juan Ignacio Mendoza Garay  \n",
    "\n",
    "*******************************************************************************************\n",
    "\n",
    "</center>\n",
    "\n",
    "#### INFORMATION:\n",
    "\n",
    "\n",
    "* Description:\n",
    "\n",
    "    See title.\n",
    "\n",
    "* Instructions:\n",
    "\n",
    "    Edit the values indicated with an arrow like this: <---  \n",
    "    Comment/uncomment or change values as suggested by the comments.  \n",
    "    Run the program, close your eyes and hope for the best.  \n",
    "\n",
    "*******************************************************************************************\n"
   ]
  },
  {
   "cell_type": "code",
   "execution_count": 41,
   "id": "ad663be8-9116-4f71-81d2-d8d06407113f",
   "metadata": {},
   "outputs": [],
   "source": [
    "import os\n",
    "import pandas as pd\n",
    "from detect_delimiter import detect as dd"
   ]
  },
  {
   "cell_type": "code",
   "execution_count": 42,
   "id": "99385733-21a4-4b22-acf7-9ad49b99fb91",
   "metadata": {},
   "outputs": [],
   "source": [
    "src_data_folder = r'C:\\Users\\MeMyself\\Documents\\Tabula_Rasa_data\\test_skeleton_data' # <--- full path where CSV files are (prepend r)\n",
    "tgt_data_folder = src_data_folder # <--- full path where input CSV files are (prepend r)\n"
   ]
  },
  {
   "cell_type": "code",
   "execution_count": null,
   "id": "5d8462a8-043a-4442-8684-5c373751ac3f",
   "metadata": {},
   "outputs": [],
   "source": [
    "# SET DELIMITERS OF ALL CSV FILES:\n",
    "\n",
    "files_in_folder = os.listdir(src_data_folder)\n",
    "for src_fn in files_in_folder:\n",
    "\n",
    "    full_src_fn = src_data_folder+'\\\\'+src_fn\n",
    "    full_tgt_fn = tgt_data_folder+'\\\\'+src_fn\n",
    "\n",
    "    with open(full_src_fn) as f:\n",
    "        firstline = f.readline()\n",
    "        delimiter = dd(firstline)\n",
    "\n",
    "    csv_data = pd.read_csv(full_src_fn, sep=delimiter)\n",
    "    csv_data = csv_data.rename(columns=lambda x: '' if isinstance(x,str) and x.startswith('Unnamed') else x) # removed \"Unnamed\" headers\n",
    "    csv_data.to_csv(full_tgt_fn, sep=',',index=False)\n",
    "\n",
    "print('done')"
   ]
  }
 ],
 "metadata": {
  "kernelspec": {
   "display_name": "Python 3 (ipykernel)",
   "language": "python",
   "name": "python3"
  },
  "language_info": {
   "codemirror_mode": {
    "name": "ipython",
    "version": 3
   },
   "file_extension": ".py",
   "mimetype": "text/x-python",
   "name": "python",
   "nbconvert_exporter": "python",
   "pygments_lexer": "ipython3",
   "version": "3.11.7"
  }
 },
 "nbformat": 4,
 "nbformat_minor": 5
}
