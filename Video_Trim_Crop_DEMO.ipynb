{
 "cells": [
  {
   "cell_type": "markdown",
   "metadata": {
    "colab_type": "text",
    "id": "ZMUdgWmTFWEs"
   },
   "source": [
    "<center>\n",
    "\n",
    "*******************************************************************************************\n",
    "\n",
    "### Trim and Crop Video\n",
    "\n",
    "##### 7 April 2025\n",
    "\n",
    "##### Juan Ignacio Mendoza Garay\n",
    "\n",
    "*******************************************************************************************\n",
    "\n",
    "</center>\n",
    "\n",
    "##### INFORMATION:\n",
    "\n",
    "\n",
    ">\n",
    "* Dependency:\n",
    "\n",
    "    * [ffmpeg](https://www.ffmpeg.org/download.html)\n",
    ">\n",
    "* Instructions:\n",
    "\n",
    "    Edit the values indicated with an arrow like this: <--- \\\n",
    "    Run the program, close your eyes, and hope for the best.\n",
    "\n",
    "*******************************************************************************************"
   ]
  },
  {
   "cell_type": "code",
   "execution_count": null,
   "metadata": {},
   "outputs": [],
   "source": [
    "import os"
   ]
  },
  {
   "cell_type": "markdown",
   "metadata": {},
   "source": [
    "***\n",
    "### Set paths and parameters"
   ]
  },
  {
   "cell_type": "code",
   "execution_count": null,
   "metadata": {},
   "outputs": [],
   "source": [
    "path_in = r\"C:\\Users\\John_Price\\SAS\\Bravo\\raw\\orchestra.mp4\"  # <---  input video file\n",
    "path_out = r\"C:\\Users\\John_Price\\SAS\\Bravo\\tropped\"           # <--- output video or folder\n",
    "# If path_out is a folder, the name of the resulting file will be the same as input file\n",
    "\n",
    "lbl = '--auto'             # <--- suffix for the output file's name, or '--auto', or None\n",
    "trim = [9*60+25,9*60+35]   # <--- [start,end] in seconds, or None\n",
    "crop = '1000:200:300:1400' # <--- str * , or None.\n",
    "# Example: '400:200:50:10' results in 400 px. (pixels) of width, 200 px. of height,\n",
    "#           at 50 px. right and 10 px. down from the top-left corner.\n",
    "# * Documentation: https://ffmpeg.org/ffmpeg-filters.html#crop"
   ]
  },
  {
   "cell_type": "markdown",
   "metadata": {},
   "source": [
    ">\n",
    "#### Process output path"
   ]
  },
  {
   "cell_type": "code",
   "execution_count": null,
   "metadata": {},
   "outputs": [],
   "source": [
    "if not lbl: lbl = ''\n",
    "is_path_out_dir = os.path.isdir(path_out)\n",
    "if (lbl=='--auto'):\n",
    "    if trim: trim_lbl = f'_{trim[0]}-{trim[1]}'\n",
    "    if crop is None: crop = ''\n",
    "    crop_lbl = crop.replace(':','-')\n",
    "    crop_lbl = f'_[{crop_lbl}]'\n",
    "    lbl = f'{trim_lbl}{crop_lbl}'\n",
    "if is_path_out_dir:\n",
    "    bname_split = os.path.splitext(os.path.basename(path_in))\n",
    "    bname_lbl = bname_split[0] + lbl + bname_split[1]\n",
    "    path_out = os.path.join(path_out, bname_lbl)\n",
    "if os.path.abspath(path_in) == os.path.abspath(path_out):\n",
    "    raise Exception('path_in is the same as path_out')"
   ]
  },
  {
   "cell_type": "markdown",
   "metadata": {},
   "source": [
    "***\n",
    "### Trop (trim & crop :)"
   ]
  },
  {
   "cell_type": "code",
   "execution_count": null,
   "metadata": {
    "scrolled": true
   },
   "outputs": [],
   "source": [
    "if trim: trim_cmd = f' -ss {trim[0]} -to {trim[1]}'\n",
    "else: trim_cmd = ''\n",
    "if crop: crop_cmd = f' -vf \"crop={crop}\"'\n",
    "else: crop_cmd = ''\n",
    "! ffmpeg -y -loglevel error -i {path_in}{trim_cmd}{crop_cmd} -acodec copy {path_out}"
   ]
  }
 ],
 "metadata": {
  "accelerator": "GPU",
  "colab": {
   "collapsed_sections": [],
   "name": "AlphaPoseV0.3.0.ipynb",
   "provenance": []
  },
  "kernelspec": {
   "display_name": "Python 3 (ipykernel)",
   "language": "python",
   "name": "python3"
  },
  "language_info": {
   "codemirror_mode": {
    "name": "ipython",
    "version": 3
   },
   "file_extension": ".py",
   "mimetype": "text/x-python",
   "name": "python",
   "nbconvert_exporter": "python",
   "pygments_lexer": "ipython3",
   "version": "3.11.11"
  }
 },
 "nbformat": 4,
 "nbformat_minor": 4
}
