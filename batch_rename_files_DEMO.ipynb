{
 "cells": [
  {
   "cell_type": "markdown",
   "id": "6de5a2a2-c1aa-4230-a50c-d234682acdae",
   "metadata": {},
   "source": [
    "<center>\n",
    "\n",
    "*******************************************************************************************\n",
    "    \n",
    "### BATCH PROCESS\n",
    "### RENAME FILES\n",
    "  \n",
    "##### 25 MARCH 2024\n",
    "\n",
    "##### Juan Ignacio Mendoza Garay  \n",
    "\n",
    "*******************************************************************************************\n",
    "\n",
    "</center>\n",
    "\n",
    "#### INFORMATION:\n",
    "\n",
    "\n",
    "* Description:\n",
    "\n",
    "    Rename all files in a folder with a common name followed by a number.\n",
    "    Useful to anonymise data files.\n",
    "\n",
    "* Instructions:\n",
    "\n",
    "    Edit the values indicated with an arrow like this: <---  \n",
    "    Comment/uncomment or change values as suggested by the comments.  \n",
    "    Run the program, close your eyes and hope for the best.  \n",
    "\n",
    "*******************************************************************************************\n"
   ]
  },
  {
   "cell_type": "code",
   "execution_count": null,
   "id": "ad663be8-9116-4f71-81d2-d8d06407113f",
   "metadata": {},
   "outputs": [],
   "source": [
    "import os"
   ]
  },
  {
   "cell_type": "code",
   "execution_count": null,
   "id": "99385733-21a4-4b22-acf7-9ad49b99fb91",
   "metadata": {},
   "outputs": [],
   "source": [
    "data_folder = r'C:\\Users\\MeMyself\\Documents\\Tabula_Rasa_data\\test_skeleton_data' # <--- full path (prepend r)\n",
    "common_name = 'TR_test_data_' # <--- a number will be appended to this string"
   ]
  },
  {
   "cell_type": "code",
   "execution_count": null,
   "id": "34f05266-5550-486e-841f-8f5c5bb4ad1c",
   "metadata": {},
   "outputs": [],
   "source": [
    "files_in_folder = os.listdir(data_folder)\n",
    "c = 0\n",
    "for src_fn in files_in_folder:\n",
    "    c = c+1\n",
    "    full_src = data_folder+'\\\\'+src_fn\n",
    "    dst_fn = (common_name+'%i.csv' % c )\n",
    "    full_dst = data_folder+'\\\\'+dst_fn\n",
    "    os.rename(full_src, full_dst)\n",
    "\n",
    "print('done')"
   ]
  }
 ],
 "metadata": {
  "kernelspec": {
   "display_name": "Python 3 (ipykernel)",
   "language": "python",
   "name": "python3"
  },
  "language_info": {
   "codemirror_mode": {
    "name": "ipython",
    "version": 3
   },
   "file_extension": ".py",
   "mimetype": "text/x-python",
   "name": "python",
   "nbconvert_exporter": "python",
   "pygments_lexer": "ipython3",
   "version": "3.11.7"
  }
 },
 "nbformat": 4,
 "nbformat_minor": 5
}
