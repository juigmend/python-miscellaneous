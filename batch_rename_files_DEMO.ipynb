{
 "cells": [
  {
   "cell_type": "markdown",
   "id": "6de5a2a2-c1aa-4230-a50c-d234682acdae",
   "metadata": {},
   "source": [
    "<center>\n",
    "\n",
    "*******************************************************************************************\n",
    "    \n",
    "### BATCH PROCESS\n",
    "### RENAME FILES\n",
    "  \n",
    "##### 10 November 2024\n",
    "\n",
    "##### Juan Ignacio Mendoza Garay  \n",
    "\n",
    "*******************************************************************************************\n",
    "\n",
    "</center>\n",
    "\n",
    "#### INFORMATION:\n",
    "\n",
    "\n",
    "* Description:\n",
    "\n",
    "    Rename all files in a folder preserving the extension.\n",
    "    Useful to anonymise data files.\n",
    "\n",
    "* Instructions:\n",
    "\n",
    "    Edit the values indicated with an arrow like this: <---  \n",
    "    Comment/uncomment or change values as suggested by the comments.  \n",
    "    Run the program, close your eyes and hope for the best.  \n",
    "\n",
    "*******************************************************************************************\n"
   ]
  },
  {
   "cell_type": "code",
   "execution_count": null,
   "id": "ad663be8-9116-4f71-81d2-d8d06407113f",
   "metadata": {},
   "outputs": [],
   "source": [
    "import os\n",
    "import string\n",
    "import random\n",
    "from datetime import datetime"
   ]
  },
  {
   "cell_type": "code",
   "execution_count": null,
   "id": "99385733-21a4-4b22-acf7-9ad49b99fb91",
   "metadata": {},
   "outputs": [],
   "source": [
    "#data_folder = r'C:\\Users\\hoppy\\Documents\\my_files' # <--- full path (prepend r)\n",
    "common_string = 'processed' # <--- common string (e.g., 'renamed'), empty = no common string\n",
    "\n",
    "nf_nt = 1 # <--- new file name type:\n",
    "# 0 = common string and random string (e.g., renamed_LP4ZX.ext)\n",
    "# 1 = common string, current date and number (e.g., renamed_20241110_1.ext)\n",
    "# 2 = common string and number (e.g., renamed_1.ext)"
   ]
  },
  {
   "cell_type": "code",
   "execution_count": null,
   "id": "5ad6a9a4-e7d9-4d82-80d9-488b39378f2e",
   "metadata": {},
   "outputs": [],
   "source": [
    "if common_string:\n",
    "    common_string_p = common_string + '_'\n",
    "else:\n",
    "    common_string_p = common_string\n",
    "    \n",
    "if nf_nt == 0:\n",
    "    def ran_str(L=5, cv=string.ascii_uppercase + string.digits):\n",
    "        return ''.join(random.choice(cv) for _ in range(L))\n",
    "elif nf_nt == 1:\n",
    "    c = 0\n",
    "\n",
    "files_in_folder = os.listdir(data_folder)\n",
    "for src_fn in files_in_folder:\n",
    "    \n",
    "    full_src = data_folder+'\\\\'+src_fn\n",
    "    # print(full_src)\n",
    "    this_n, this_ext  = os.path.splitext(src_fn)\n",
    "    \n",
    "    if nf_nt == 0:\n",
    "        output_fn = common_string_p + ran_str() + this_ext\n",
    "    elif nf_nt == 1:\n",
    "        d = datetime.today().strftime('%Y%m%d')\n",
    "        c += 1\n",
    "        output_fn = common_string_p + f'{d}_{c}' + this_ext\n",
    "    elif nf_nt == 2:\n",
    "        c = c+1\n",
    "        output_fn = common_string_p + ('%i' % c) + this_ext\n",
    "    #print(output_fn)\n",
    "    #print( )\n",
    "    full_dst = data_folder+'\\\\'+output_fn\n",
    "    os.rename(full_src, full_dst)\n",
    "\n",
    "print('done')"
   ]
  }
 ],
 "metadata": {
  "kernelspec": {
   "display_name": "Python 3 (ipykernel)",
   "language": "python",
   "name": "python3"
  },
  "language_info": {
   "codemirror_mode": {
    "name": "ipython",
    "version": 3
   },
   "file_extension": ".py",
   "mimetype": "text/x-python",
   "name": "python",
   "nbconvert_exporter": "python",
   "pygments_lexer": "ipython3",
   "version": "3.11.7"
  }
 },
 "nbformat": 4,
 "nbformat_minor": 5
}
