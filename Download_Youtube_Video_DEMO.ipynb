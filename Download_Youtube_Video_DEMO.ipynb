{
 "cells": [
  {
   "cell_type": "markdown",
   "metadata": {
    "colab_type": "text",
    "id": "ZMUdgWmTFWEs"
   },
   "source": [
    "<center>\n",
    "\n",
    "*******************************************************************************************\n",
    "\n",
    "### Download Youtube Video\n",
    "\n",
    "##### 30 March 2025\n",
    "\n",
    "##### Juan Ignacio Mendoza Garay\n",
    "\n",
    "*******************************************************************************************\n",
    "\n",
    "</center>\n",
    "\n",
    "##### INFORMATION:\n",
    "\n",
    "* Downloads video from Youtube and writes a file with properties 'ID' (identification label) and 'fps' (frames per second).\n",
    ">\n",
    "* Tested with:\n",
    "\n",
    "    * Python 3.11\n",
    "    * Windows 11\n",
    ">\n",
    "* Dependencies:\n",
    "\n",
    "    * [Video downloader](https://github.com/yt-dlp/yt-dlp):\n",
    "        * PIP: https://pypi.org/project/yt-dlp/\n",
    "        * Conda: https://anaconda.org/conda-forge/yt-dlp\n",
    "    * Other packages might be prompted for installation.\n",
    ">\n",
    "* Instructions:\n",
    "\n",
    "    Edit the values indicated with an arrow like this: <---\\\n",
    "    Run the program, close your eyes and hope for the best.\n",
    "\n",
    "*******************************************************************************************"
   ]
  },
  {
   "cell_type": "code",
   "execution_count": null,
   "metadata": {
    "colab": {},
    "colab_type": "code",
    "id": "JQVH0gE47FE9"
   },
   "outputs": [],
   "source": [
    "from os import listdir\n",
    "\n",
    "import pandas as pd\n",
    "from yt_dlp import YoutubeDL\n",
    "from IPython.display import YouTubeVideo"
   ]
  },
  {
   "cell_type": "markdown",
   "metadata": {},
   "source": [
    "***\n",
    "#### Set paths and parameters"
   ]
  },
  {
   "cell_type": "code",
   "execution_count": null,
   "metadata": {},
   "outputs": [],
   "source": [
    "prop_path = r\"C:\\Users\\Ajax\\Documents\\Ghosts\" # <--- folder to save file 'properties.csv'\n",
    "vout_path = prop_path + r\"\\input_video\"       # <--- folder to save video (full path)\n",
    "\n",
    "YT_video_ID = 'b4TKazWlEMM' # <--- this string is at the end of the video's Youtube page URL *\n",
    "fn_lbl = []                 # <--- name for the resulting file, '' or [] = use Youtube video ID\n",
    "\n",
    "max_video_h = 1080 # <--- maximum height of video to download\n",
    "max_fps = 30       # <--- maximum frame rate of video to download\n",
    "video_ext = 'mp4'  # <--- resulting video file extension (encapsulation format)\n",
    "\n",
    "preview = True     # <--- preview video to download\n",
    "get_info = True    # <--- get and display information about the video to download\n",
    "\n",
    "# * The Youtube ID follows this string in the URL: \"www.youtube.com/watch?v=\""
   ]
  },
  {
   "cell_type": "markdown",
   "metadata": {},
   "source": [
    "***\n",
    "#### Preview"
   ]
  },
  {
   "cell_type": "code",
   "execution_count": null,
   "metadata": {
    "colab": {
     "base_uri": "https://localhost:8080/",
     "height": 321
    },
    "colab_type": "code",
    "id": "cxFKSe_j9I_f",
    "outputId": "d438b428-47b4-483a-c719-49ad8804cfb3"
   },
   "outputs": [],
   "source": [
    "if preview: YouTubeVideo(YT_video_ID)\n",
    "else: print('Preview disabled.')"
   ]
  },
  {
   "cell_type": "markdown",
   "metadata": {},
   "source": [
    "***\n",
    "#### Get information"
   ]
  },
  {
   "cell_type": "code",
   "execution_count": null,
   "metadata": {},
   "outputs": [],
   "source": [
    "yt_url = f'https://www.youtube.com/watch?v={YT_video_ID}'\n",
    "if get_info:\n",
    "    ! yt-dlp -F {yt_url}\n",
    "else: print('Display information disabled.')"
   ]
  },
  {
   "cell_type": "markdown",
   "metadata": {},
   "source": [
    "***\n",
    "#### Download and write properties"
   ]
  },
  {
   "cell_type": "code",
   "execution_count": null,
   "metadata": {},
   "outputs": [],
   "source": [
    "if fn_lbl: video_fn_ne = fn_lbl\n",
    "else: video_fn_ne = YT_video_ID\n",
    "video_ffn_ne = vout_path + '\\\\' + video_fn_ne\n",
    "video_fn = f'{video_fn_ne}.{video_ext}'\n",
    "if video_fn in listdir(vout_path):\n",
    "    raise Exception(f'File {video_fn} already exists in video folder.')\n",
    "\n",
    "video_format_str = f'bv[height<=?{max_video_h}][fps<={max_fps}]+ba'\n",
    "ydl_opts = { 'format': video_format_str,\n",
    "             'outtmpl': video_ffn_ne,\n",
    "             'final_ext': video_ext,\n",
    "             'postprocessors': [{ 'key': 'FFmpegVideoRemuxer',\n",
    "                                  'preferedformat': video_ext, }] }\n",
    "with YoutubeDL(ydl_opts) as ydl:\n",
    "    ydl_info = ydl.extract_info(yt_url,download=True)\n",
    "\n",
    "props_df_new = pd.DataFrame([[YT_video_ID,ydl_info['fps']]], columns=[\"ID\",\"fps\"])\n",
    "if 'properties.csv' in listdir(prop_path):\n",
    "    if YT_video_ID in props_df_new.ID.values:\n",
    "        raise Exception(f'ID = {YT_video_ID} already exists in file \"properties.csv\".')\n",
    "    props_df_old = pd.read_csv(prop_path+r'\\properties.csv')\n",
    "    props_df_new = pd.concat([props_df_old, props_df_new], axis=0)\n",
    "props_df_new.to_csv(prop_path+'\\properties.csv', index=False)"
   ]
  }
 ],
 "metadata": {
  "accelerator": "GPU",
  "colab": {
   "collapsed_sections": [],
   "name": "AlphaPoseV0.3.0.ipynb",
   "provenance": []
  },
  "kernelspec": {
   "display_name": "Python 3 (ipykernel)",
   "language": "python",
   "name": "python3"
  },
  "language_info": {
   "codemirror_mode": {
    "name": "ipython",
    "version": 3
   },
   "file_extension": ".py",
   "mimetype": "text/x-python",
   "name": "python",
   "nbconvert_exporter": "python",
   "pygments_lexer": "ipython3",
   "version": "3.11.11"
  }
 },
 "nbformat": 4,
 "nbformat_minor": 4
}
