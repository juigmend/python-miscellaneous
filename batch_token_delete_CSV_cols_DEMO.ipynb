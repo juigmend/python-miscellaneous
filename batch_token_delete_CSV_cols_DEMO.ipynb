{
 "cells": [
  {
   "cell_type": "markdown",
   "id": "6de5a2a2-c1aa-4230-a50c-d234682acdae",
   "metadata": {},
   "source": [
    "<center>\n",
    "\n",
    "*******************************************************************************************\n",
    "    \n",
    "### BATCH PROCESS\n",
    "### DELETE COLUMNS OF CSV FILES\n",
    "### USING TOKENS IN COLUMN HEADERS\n",
    "  \n",
    "##### 25 MARCH 2024\n",
    "\n",
    "##### Juan Ignacio Mendoza Garay  \n",
    "\n",
    "*******************************************************************************************\n",
    "\n",
    "</center>\n",
    "\n",
    "#### INFORMATION:\n",
    "\n",
    "\n",
    "* Description:\n",
    "\n",
    "    See title.\n",
    "\n",
    "* Instructions:\n",
    "\n",
    "    Edit the values indicated with an arrow like this: <---  \n",
    "    Comment/uncomment or change values as suggested by the comments.  \n",
    "    Run the program, close your eyes and hope for the best.  \n",
    "\n",
    "*******************************************************************************************\n"
   ]
  },
  {
   "cell_type": "code",
   "execution_count": null,
   "id": "ad663be8-9116-4f71-81d2-d8d06407113f",
   "metadata": {},
   "outputs": [],
   "source": [
    "import os\n",
    "import numpy as np\n",
    "import pandas as pd"
   ]
  },
  {
   "cell_type": "code",
   "execution_count": null,
   "id": "99385733-21a4-4b22-acf7-9ad49b99fb91",
   "metadata": {},
   "outputs": [],
   "source": [
    "src_data_folder = r'C:\\Users\\MeMyself\\Documents\\Tabula_Rasa_data\\test_skeleton_data' # <--- full path where input CSV files are (prepend r)\n",
    "\n",
    "i_row_col_lbl = 2 # <--- Index of the row with labels/headers for columns (zero-based)\n",
    "                  #      After this row, all rows are numeric data (floats).\n",
    "\n",
    "tok_retain = [] # <--- tokens for columns to retain (empty to use file)\n",
    "retain_full_fn = r'C:\\Users\\MeMyself\\Documents\\Tabula_Rasa_data\\reduced_markers.txt' # <--- TXT file with tokens for columns to retain (full path, prepend r)\n",
    "\n",
    "tgt_data_folder = src_data_folder # <--- full path where input CSV files are (prepend r)"
   ]
  },
  {
   "cell_type": "code",
   "execution_count": null,
   "id": "5d8462a8-043a-4442-8684-5c373751ac3f",
   "metadata": {},
   "outputs": [],
   "source": [
    "# REMOVE CSV COLUMNS USING TOKENS FOR COLUMN HEADERS\n",
    "\n",
    "if not tok_retain:\n",
    "    tok_retain = list(open(retain_full_fn, 'r'))\n",
    "    for i in range(len(tok_retain)):\n",
    "        tok_retain[i] = tok_retain[i].strip('\\n')\n",
    "\n",
    "files_in_folder = os.listdir(src_data_folder)\n",
    "\n",
    "for src_fn in files_in_folder:\n",
    "\n",
    "    # Load CSV data:\n",
    "    full_src_fn = src_data_folder+'\\\\'+src_fn\n",
    "    full_tgt_fn = tgt_data_folder+'\\\\'+src_fn\n",
    "    csv_data_src = pd.read_csv(full_src_fn,header = None)\n",
    "    csv_data_src = csv_data_src.rename(columns=lambda x: '' if isinstance(x,str) and x.startswith('Unnamed') else x) # removed \"Unnamed\" headerscsv_data_src = csv_data_src.rename(columns=lambda x: '' if isinstance(x,str) and x.startswith('Unnamed') else x) # removed \"Unnamed\" headers\n",
    "\n",
    "    # Find which columns to retain:\n",
    "    col_lbl = csv_data_src.iloc[i_row_col_lbl]\n",
    "    i_col_retain_bool = [False for i in range(len(col_lbl))] # initialise\n",
    "    for tok in tok_retain:\n",
    "        i_col = 0\n",
    "        for col in col_lbl:\n",
    "            if tok in col:\n",
    "                print(tok)\n",
    "                i_col_retain_bool[i_col] = True\n",
    "            i_col = i_col + 1\n",
    "    i_col_retain = np.where(i_col_retain_bool)[0]\n",
    "\n",
    "    # Remove columns:\n",
    "    info_headers_redux = csv_data_src.iloc[:i_row_col_lbl,:sum(i_col_retain_bool)]\n",
    "    csv_table_redux = csv_data_src.iloc[i_row_col_lbl:,i_col_retain]\n",
    "    csv_table_redux.columns = range(csv_table_redux.columns.size)\n",
    "    csv_table_redux.columns = range(csv_table_redux.columns.size)\n",
    "    csv_data_tgt = pd.concat([info_headers_redux,csv_table_redux])\n",
    "    csv_data_tgt.to_csv(full_tgt_fn,sep=',',header=None,index=False)\n",
    "\n",
    "print('done')"
   ]
  }
 ],
 "metadata": {
  "kernelspec": {
   "display_name": "Python 3 (ipykernel)",
   "language": "python",
   "name": "python3"
  },
  "language_info": {
   "codemirror_mode": {
    "name": "ipython",
    "version": 3
   },
   "file_extension": ".py",
   "mimetype": "text/x-python",
   "name": "python",
   "nbconvert_exporter": "python",
   "pygments_lexer": "ipython3",
   "version": "3.11.7"
  }
 },
 "nbformat": 4,
 "nbformat_minor": 5
}
