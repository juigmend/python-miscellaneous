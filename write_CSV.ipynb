{
 "cells": [
  {
   "cell_type": "markdown",
   "id": "6de5a2a2-c1aa-4230-a50c-d234682acdae",
   "metadata": {},
   "source": [
    "<center>\n",
    "\n",
    "*******************************************************************************************\n",
    "    \n",
    "### Write data to CSV\n",
    "  \n",
    "#####  9 June 2024\n",
    "\n",
    "##### Juan Ignacio Mendoza Garay  \n",
    "\n",
    "*******************************************************************************************\n",
    "\n",
    "</center>\n",
    "\n",
    "* Instructions:\n",
    "\n",
    "    Edit the values indicated with an input_arrow like this: <---  \n",
    "    Comment/uncomment or change values as suggested by the comments.  \n",
    "    Run the program, close your eyes and hope for the best.  \n",
    "\n",
    "*******************************************************************************************\n"
   ]
  },
  {
   "cell_type": "code",
   "execution_count": 4,
   "id": "67060779-80f6-40bd-b9ec-3bf05f8e406b",
   "metadata": {},
   "outputs": [],
   "source": [
    "import datetime\n",
    "import pandas as pd"
   ]
  },
  {
   "cell_type": "code",
   "execution_count": 5,
   "id": "1b8df9e1-7538-4e6a-98ec-159edd2ae82c",
   "metadata": {},
   "outputs": [],
   "source": [
    "file_name = 'my.csv' # <--- \n",
    "wmode = 'a' # <--- write mode: a = append, w = overwrite\n",
    "wmode = 'w' # <--- write mode: a = append, w = overwrite\n",
    "\n",
    "# Column names only for write mode:\n",
    "#col_names = ['x','y','z'] # <---\n",
    "col_names = ['datetime','a','b'] # <---\n",
    "#col_names = [] # <---\n",
    "\n",
    "dt = datetime.datetime.now().strftime(\"%Y-%m-%d %H:%M:%S\")\n",
    "\n",
    "new_row = [dt,2500,3] # <---\n",
    "new_row = [] # <---\n",
    "\n",
    "if wmode == 'w':\n",
    "    h = True\n",
    "    my_df = pd.DataFrame(columns = col_names)\n",
    "    if new_row:\n",
    "        my_df.loc[len(my_df)] = new_row\n",
    "else:\n",
    "    h = False\n",
    "    my_df = pd.DataFrame([new_row])\n",
    "    \n",
    "my_df.to_csv(file_name, sep=',',mode = wmode, index=False, header=h)"
   ]
  }
 ],
 "metadata": {
  "kernelspec": {
   "display_name": "Python 3 (ipykernel)",
   "language": "python",
   "name": "python3"
  },
  "language_info": {
   "codemirror_mode": {
    "name": "ipython",
    "version": 3
   },
   "file_extension": ".py",
   "mimetype": "text/x-python",
   "name": "python",
   "nbconvert_exporter": "python",
   "pygments_lexer": "ipython3",
   "version": "3.11.7"
  }
 },
 "nbformat": 4,
 "nbformat_minor": 5
}
