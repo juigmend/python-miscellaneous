{
 "cells": [
  {
   "cell_type": "markdown",
   "id": "50eb0a68-a1d2-4361-8403-87d0f34d921b",
   "metadata": {},
   "source": [
    "<center>\n",
    "\n",
    "*******************************************************************************************\n",
    "<font size=\"4\">\n",
    "Visualise Skeletons&nbsp; &nbsp; <br>\n",
    "</font>\n",
    "\n",
    "##### 24 August 2025\n",
    "\n",
    "##### Juan Ignacio Mendoza Garay\n",
    "\n",
    "*******************************************************************************************\n",
    "\n",
    "</center>\n",
    "\n",
    "##### INFORMATION:\n",
    "\n",
    "* Visualise anthropomorphic skeletons from file produced by AlphaPose. Also, save as PNG picture or MP4 video.\n",
    ">\n",
    "* Example data: https://osf.io/3x5hq\n",
    ">\n",
    "* Instructions:\n",
    "\n",
    "    Edit the values indicated with an arrow like this: <---\\\n",
    "    Run the program, close your eyes, and hope for the best.\n",
    "\n",
    "*******************************************************************************************"
   ]
  },
  {
   "cell_type": "code",
   "execution_count": 1,
   "id": "ecbf0370-48b4-4ba3-8c67-7f916ddbd6ee",
   "metadata": {},
   "outputs": [],
   "source": [
    "import sys\n",
    "from os import path\n",
    "\n",
    "import numpy as np\n",
    "import pandas as pd\n",
    "from matplotlib import pyplot as plt\n",
    "from matplotlib import colormaps, animation\n"
   ]
  },
  {
   "cell_type": "markdown",
   "id": "1a1124ac-3c44-4c34-acde-cf789f149959",
   "metadata": {},
   "source": [
    "***\n",
    "### Set paths and variables\n",
    "Folders should exist before running the program. They will not be created automatically."
   ]
  },
  {
   "cell_type": "code",
   "execution_count": 2,
   "id": "5af9c84a-9af7-4e7d-a6a4-88b4d4df99b7",
   "metadata": {},
   "outputs": [],
   "source": [
    "main_path = 'C:/Users/Max_Sterling'                    # <--\n",
    "project_folder = main_path + '/Borodin_Quartet'        # <--- project folder\n",
    "\n",
    "pose_tracking_path = project_folder + '/pose_tracking/tracking'\n",
    "\n",
    "json_ffn = pose_tracking_path + '/AlphaPose_Borodin_Quartet_1_1_[608,0.8,0.1].json' # <--- AlphaPose file (json format)\n",
    "\n",
    "pics_folder = project_folder + '/other/skeleton_pics'  # <--- skeletons figure or video\n",
    "\n",
    "# Information of the video from which pose was estimated:\n",
    "viskelpar = {'fps': 29.97,         # <--- frame rate\n",
    "             'image_height': 260,  # <--- image height (pixels)\n",
    "             'image_width': 640}   # <--- image width  (pixels)\n"
   ]
  },
  {
   "cell_type": "code",
   "execution_count": 3,
   "id": "6859a30b-c62f-40f4-ae66-ece41b3e40a2",
   "metadata": {},
   "outputs": [],
   "source": [
    "jfn = path.splitext(path.basename(json_ffn))[0]\n",
    "pic_ffn_ne = pics_folder + '/skeletons_' + jfn.replace('AlphaPose_','')"
   ]
  },
  {
   "cell_type": "markdown",
   "id": "adf0cb4e-6374-40ab-bf02-d7cf04b51ab9",
   "metadata": {},
   "source": [
    "***\n",
    "### Define functions"
   ]
  },
  {
   "cell_type": "code",
   "execution_count": 4,
   "id": "6c97824a-793a-4c8e-a785-2490afe49c09",
   "metadata": {},
   "outputs": [],
   "source": [
    "def viskeletons( json_ffn, i_frames, pic_ffn_ne, viskelpar):\n",
    "    '''\n",
    "    Visualise skeletons.\n",
    "    Args:\n",
    "        json_ffn (str): Path with filename and extension, of pose estimation json file.\n",
    "        i_frames (int,list[int],str): Frames to visualise (int, [start,end], or 'all').\n",
    "                                      If int: A PNG figure will be produced.\n",
    "                                      Else: An MP4 video will be produced.\n",
    "        pic_ffn_ne (str): Path, filename but no extension for picture (figure or video).\n",
    "        viskelpar (dict): Has the following elements:\n",
    "            fps (int,float): Frame rate of the video of the estimated pose (frames per second).\n",
    "            image_height (int): Height of the video of the estimated pose (pixels).\n",
    "            image_width (int): Width of the video of the estimated pose (pixels).\n",
    "            conn (list[list[int]]): Nested list of keypoints' connections. Default is values for\n",
    "                                    Halpe 26 (see https://github.com/Fang-Haoshu/Halpe-FullBody).\n",
    "            bg_colour (str): Background colour (see colors' documentation for Matplotlib).\n",
    "            line_width (float): Width of connection lines.\n",
    "            figure_width (int,float): Width of the figure (inches)\n",
    "    '''\n",
    "    fps = viskelpar.get('fps',None)\n",
    "    image_height = viskelpar.get('image_height',None)\n",
    "    image_width = viskelpar.get('image_width',None)\n",
    "    checkpar = (fps is not None) and (image_height is not None) and (image_width is not None)\n",
    "    assert checkpar, 'fps, image_height, and image_width missing from argument \"viskelpar\"'\n",
    "    conn_halpe26 = [[4,2,0,1,3],[17,18,19],[10,8,6,18,5,7,9],\n",
    "                    [21,25,16,14,12,19,11,13,15,24,20],[23,25],[22,24]]\n",
    "    conn = viskelpar.get('conn',conn_halpe26)\n",
    "    bg_colour = viskelpar.get('bg_colour','k')\n",
    "    line_width = viskelpar.get('line_width',1.5)\n",
    "    figure_width = viskelpar.get('figure_width',8)\n",
    "\n",
    "    def load_APjson(json_ffn):\n",
    "        kp_data_df = pd.read_json(json_ffn)\n",
    "        kp_data_df = kp_data_df.drop(['category_id','score','box'],axis=1)\n",
    "        kp_data_df.image_id = kp_data_df.image_id.str.split('.').str[0].astype(int)\n",
    "        return kp_data_df\n",
    "\n",
    "    def plot_skeleton( ax, kp, connections, line_width, colour, animated=False ):\n",
    "        skar_list = []\n",
    "        for l in connections:\n",
    "            x = [kp[i_kp*2] for i_kp in l]\n",
    "            y = [kp[i_kp*2+1] for i_kp in l]\n",
    "            skar, = ax.plot(x, y, color=colour, linewidth=line_width, animated=animated)\n",
    "            skar_list.append(skar)\n",
    "        return skar_list, ax\n",
    "\n",
    "    def plot_frame( ax, kp_data_df, i_frame, conn, line_width,\n",
    "                    cmap_lbl='Set1', filename=None, animated=False ):\n",
    "        '''\n",
    "        Args:\n",
    "            kp_data_df (pandas.DataFrame): Has at least columns 'image_id' (int)\n",
    "                                           and 'keypoints' (list).\n",
    "            i_frame (int): Index of the frame.\n",
    "            Optional:\n",
    "                cmap_lbl (str): Name of the colormap for skeletons.\n",
    "                animated (bool)\n",
    "        '''\n",
    "        framekp_df = kp_data_df[kp_data_df.image_id == i_frame]['keypoints']\n",
    "        frar_list = []\n",
    "        for i_skel, kpc in enumerate(framekp_df):\n",
    "            kp = kpc.copy()\n",
    "            del kp[2::3]\n",
    "            colour = colormaps[cmap_lbl](i_skel)\n",
    "            skar_list, ax = plot_skeleton(ax, kp, conn, line_width, colour, animated)\n",
    "            frar_list.extend(skar_list)\n",
    "        if filename: plt.savefig(filename  + '.png')\n",
    "        return frar_list\n",
    "\n",
    "    def animate( fig, ax, kp_data_df, i_frames, fps, conn, line_width, filename=None):\n",
    "        frames = []\n",
    "        for i_frame in range(i_frames[0],i_frames[1]):\n",
    "            frar_list = plot_frame( ax, kp_data_df, i_frame, conn, line_width,\n",
    "                                 animated=True )\n",
    "            frames.append(frar_list)\n",
    "        anim = animation.ArtistAnimation( fig, frames, interval=1000/fps, repeat=False, blit=True )\n",
    "        plt.close()\n",
    "        if filename: anim.save(filename  + '.mp4')\n",
    "        return anim\n",
    "\n",
    "    kpdata = load_APjson(json_ffn)\n",
    "    fig = plt.figure(figsize=(figure_width,figure_width*image_height/image_width))\n",
    "    fig.set_facecolor(bg_colour)\n",
    "    ax = fig.add_subplot(111)\n",
    "    ax.invert_yaxis();\n",
    "    ax.axis('off')\n",
    "    if isinstance(i_frames,int):\n",
    "        plot_frame(ax, kpdata, i_frames, conn, line_width, filename=pic_ffn_ne)\n",
    "        anim = None\n",
    "    else:\n",
    "        if isinstance(i_frames,str): i_frames = [0,kpdata.image_id.max()]\n",
    "        anim = animate( fig, ax, kpdata, i_frames, fps, conn, line_width, filename=pic_ffn_ne)\n",
    "    return anim\n"
   ]
  },
  {
   "cell_type": "markdown",
   "id": "f5277709-87f0-4198-8d58-4bb7d51c1ff1",
   "metadata": {},
   "source": [
    "***\n",
    "### Visualise"
   ]
  },
  {
   "cell_type": "code",
   "execution_count": 5,
   "id": "5feb2d10-fe17-43db-9725-38e3cbbfac9e",
   "metadata": {},
   "outputs": [
    {
     "data": {
      "image/png": "[encoded data removed]",
      "text/plain": [
       "<Figure size 800x325 with 1 Axes>"
      ]
     },
     "metadata": {},
     "output_type": "display_data"
    }
   ],
   "source": [
    "i_frames = 0  # <--- frames: int, [start,end], or 'all'\n",
    "# i_frames = [0, int(3*viskelpar['fps'])]\n",
    "# i_frames = 'all'\n",
    "\n",
    "anim = viskeletons( json_ffn, i_frames, pic_ffn_ne, viskelpar)\n",
    "\n",
    "if anim:\n",
    "    from IPython.display import display,HTML\n",
    "    display(HTML(anim.to_html5_video()))"
   ]
  }
 ],
 "metadata": {
  "kernelspec": {
   "display_name": "Python 3 (ipykernel)",
   "language": "python",
   "name": "python3"
  },
  "language_info": {
   "codemirror_mode": {
    "name": "ipython",
    "version": 3
   },
   "file_extension": ".py",
   "mimetype": "text/x-python",
   "name": "python",
   "nbconvert_exporter": "python",
   "pygments_lexer": "ipython3",
   "version": "3.11.11"
  }
 },
 "nbformat": 4,
 "nbformat_minor": 5
}
