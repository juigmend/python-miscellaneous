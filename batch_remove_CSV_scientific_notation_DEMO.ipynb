{
 "cells": [
  {
   "cell_type": "markdown",
   "id": "6de5a2a2-c1aa-4230-a50c-d234682acdae",
   "metadata": {},
   "source": [
    "<center>\n",
    "\n",
    "*******************************************************************************************\n",
    "    \n",
    "### BATCH PROCESS\n",
    "### CONVERT SCIENTIFIC NOTATION\n",
    "### TO FLOATING-POINT DECIMALS\n",
    "  \n",
    "##### 25 APRIL 2024\n",
    "\n",
    "##### Juan Ignacio Mendoza Garay  \n",
    "\n",
    "*******************************************************************************************\n",
    "\n",
    "</center>\n",
    "\n",
    "#### INFORMATION:\n",
    "\n",
    "\n",
    "* Description:\n",
    "\n",
    "    See title.\n",
    "\n",
    "* Instructions:\n",
    "\n",
    "    Edit the values indicated with an arrow like this: <---  \n",
    "    Comment/uncomment or change values as suggested by the comments.  \n",
    "    Run the program, close your eyes and hope for the best.  \n",
    "\n",
    "*******************************************************************************************\n"
   ]
  },
  {
   "cell_type": "code",
   "execution_count": 92,
   "id": "ad663be8-9116-4f71-81d2-d8d06407113f",
   "metadata": {},
   "outputs": [],
   "source": [
    "import os\n",
    "import numpy as np\n",
    "import pandas as pd"
   ]
  },
  {
   "cell_type": "code",
   "execution_count": 93,
   "id": "99385733-21a4-4b22-acf7-9ad49b99fb91",
   "metadata": {},
   "outputs": [],
   "source": [
    "src_data_folder = r'C:\\Users\\Hal_Yakzuby\\Documents\\Tabula_Rasa_data\\test_skeleton_data' # <--- full path where input CSV files are (prepend r)\n",
    "\n",
    "i_row_start = 3 # <--- Index of the row where numeric data starts (zero-based)\n",
    "\n",
    "dec_pl = 9 # <--- decimal places\n",
    "\n",
    "new_label = '' # <--- string to append to each file name (empty to overwrite the file)\n",
    "\n",
    "tgt_data_folder = src_data_folder # <--- full path for output CSV files (prepend r)"
   ]
  },
  {
   "cell_type": "code",
   "execution_count": null,
   "id": "5d8462a8-043a-4442-8684-5c373751ac3f",
   "metadata": {},
   "outputs": [],
   "source": [
    "# CONVERT NUMERIC FORMAT\n",
    "\n",
    "files_in_folder = os.listdir(src_data_folder)\n",
    "new_fmt = '{:,.'+str(dec_pl)+'f}'\n",
    "\n",
    "for src_fn in files_in_folder:\n",
    "\n",
    "    full_src_fn = src_data_folder+'\\\\'+src_fn\n",
    "    fn, ext = os.path.splitext(src_fn)\n",
    "    full_tgt_fn = tgt_data_folder+'\\\\'+fn+new_label+ext\n",
    "    csv_data_src = pd.read_csv(full_src_fn,header = None)\n",
    "    info_headers = csv_data_src.iloc[:i_row_start,:]\n",
    "    csv_table = csv_data_src.iloc[i_row_start:,:]\n",
    "    csv_table = csv_table.astype(float)\n",
    "    csv_table = csv_table.map(new_fmt.format)\n",
    "    csv_data_tgt = pd.concat([info_headers,csv_table])\n",
    "    csv_data_tgt.to_csv(full_tgt_fn,sep=',',header=None,index=False)\n",
    "\n",
    "print('done')"
   ]
  }
 ],
 "metadata": {
  "kernelspec": {
   "display_name": "Python 3 (ipykernel)",
   "language": "python",
   "name": "python3"
  },
  "language_info": {
   "codemirror_mode": {
    "name": "ipython",
    "version": 3
   },
   "file_extension": ".py",
   "mimetype": "text/x-python",
   "name": "python",
   "nbconvert_exporter": "python",
   "pygments_lexer": "ipython3",
   "version": "3.11.7"
  }
 },
 "nbformat": 4,
 "nbformat_minor": 5
}
